{
 "cells": [
  {
   "cell_type": "code",
   "execution_count": null,
   "metadata": {},
   "outputs": [
    {
     "ename": "",
     "evalue": "",
     "output_type": "error",
     "traceback": [
      "\u001b[1;31mA execução de células com 'c:\\Program Files\\Python312\\python.exe' requer o pacote ipykernel.\n",
      "\u001b[1;31mExecute o seguinte comando para instalar \"ipykernel\" no ambiente do Python. \n",
      "\u001b[1;31mComando: \"\"c:/Program Files/Python312/python.exe\" -m pip install ipykernel -U --user --force-reinstall\""
     ]
    }
   ],
   "source": [
    "#importando pacotes\n",
    "\n",
    "import pandas as pd\n",
    "import matplotlib.pyplot as plt\n",
    "import seaborn as sns\n",
    "from sklearn.preprocessing import LabelEncoder, OneHotEncoder, MinMaxScaler\n",
    "from sklearn.neighbors import KNeighborsClassifier\n",
    "import numpy as np\n"
   ]
  },
  {
   "cell_type": "code",
   "execution_count": null,
   "metadata": {},
   "outputs": [],
   "source": [
    "df_countries = pd.read_csv(\"best-countries-to-live-in-2024.csv\") #branch da madu\n",
    "df_country_statistics = pd.read_csv(\"Country statistics.csv\")  #branch do daniel\n",
    "df_data = pd.read_csv(\"data.csv\") #gigante, vamos ver ela por último em grupo\n",
    "df_men = pd.read_csv(\"men.csv\") #branch da maya\n",
    "df_pro_mma = pd.read_csv(\"pro_mma_fighters.csv\") #branch do marcelo \n",
    "df_ufc_fighters = pd.read_csv(\"ufc-fighters-statistics\") #branch do pedro"
   ]
  }
 ],
 "metadata": {
  "kernelspec": {
   "display_name": "Python 3",
   "language": "python",
   "name": "python3"
  },
  "language_info": {
   "name": "python",
   "version": "0.0.0"
  }
 },
 "nbformat": 4,
 "nbformat_minor": 2
}
